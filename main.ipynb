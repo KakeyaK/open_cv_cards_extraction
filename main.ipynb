{
 "cells": [
  {
   "cell_type": "code",
   "execution_count": 6,
   "metadata": {},
   "outputs": [
    {
     "name": "stdout",
     "output_type": "stream",
     "text": [
      "398\n"
     ]
    }
   ],
   "source": [
    "import cv2\n",
    "import numpy as np\n",
    "\n",
    "# Load the input image\n",
    "img = cv2.imread(\"./cartas/digitalizar0001.jpg\")\n",
    "\n",
    "# Convert the input image to grayscale\n",
    "gray = cv2.cvtColor(img, cv2.COLOR_BGR2GRAY)\n",
    "\n",
    "# Load the pattern image\n",
    "template = cv2.imread(\"./template/template2.jpg\", cv2.IMREAD_GRAYSCALE)\n",
    "\n",
    "w, h = template.shape[::-1]\n",
    "\n",
    "# Perform template matching to find the pattern in the image\n",
    "result = cv2.matchTemplate(gray, template, cv2.TM_CCOEFF_NORMED)\n",
    "\n",
    "# Set a threshold for the match\n",
    "threshold = 0.9\n",
    "\n",
    "# Get all matches that exceed the threshold\n",
    "locations = np.where(result >= threshold)\n",
    "\n",
    "# Save each match as a separate file\n",
    "i = 0\n",
    "for pt in zip(*locations[::-1]):\n",
    "    match = img[pt[1]:pt[1]+h, pt[0]:pt[0]+w]\n",
    "    # cv2.imwrite(\"match_{}.jpg\".format(i), match)\n",
    "    i += 1\n",
    "print(i)"
   ]
  }
 ],
 "metadata": {
  "kernelspec": {
   "display_name": "venv",
   "language": "python",
   "name": "python3"
  },
  "language_info": {
   "codemirror_mode": {
    "name": "ipython",
    "version": 3
   },
   "file_extension": ".py",
   "mimetype": "text/x-python",
   "name": "python",
   "nbconvert_exporter": "python",
   "pygments_lexer": "ipython3",
   "version": "3.10.9"
  },
  "orig_nbformat": 4,
  "vscode": {
   "interpreter": {
    "hash": "f58088943cd2d1e90c40dd3dfd69f0ba106fde4bff9542aab3015d92612ad3f5"
   }
  }
 },
 "nbformat": 4,
 "nbformat_minor": 2
}
